{
 "cells": [
  {
   "cell_type": "markdown",
   "metadata": {},
   "source": [
    "---\n",
    "\n",
    "_You are currently looking at **version 1.1** of this notebook. To download notebooks and datafiles, as well as get help on Jupyter notebooks in the Coursera platform, visit the [Jupyter Notebook FAQ](https://www.coursera.org/learn/python-data-analysis/resources/0dhYG) course resource._\n",
    "\n",
    "---"
   ]
  },
  {
   "cell_type": "code",
   "execution_count": 60,
   "metadata": {
    "collapsed": true
   },
   "outputs": [],
   "source": [
    "import pandas as pd\n",
    "import numpy as np\n",
    "from scipy.stats import ttest_ind"
   ]
  },
  {
   "cell_type": "markdown",
   "metadata": {},
   "source": [
    "# Assignment 4 - Hypothesis Testing\n",
    "This assignment requires more individual learning than previous assignments - you are encouraged to check out the [pandas documentation](http://pandas.pydata.org/pandas-docs/stable/) to find functions or methods you might not have used yet, or ask questions on [Stack Overflow](http://stackoverflow.com/) and tag them as pandas and python related. And of course, the discussion forums are open for interaction with your peers and the course staff.\n",
    "\n",
    "Definitions:\n",
    "* A _quarter_ is a specific three month period, Q1 is January through March, Q2 is April through June, Q3 is July through September, Q4 is October through December.\n",
    "* A _recession_ is defined as starting with two consecutive quarters of GDP decline, and ending with two consecutive quarters of GDP growth.\n",
    "* A _recession bottom_ is the quarter within a recession which had the lowest GDP.\n",
    "* A _university town_ is a city which has a high percentage of university students compared to the total population of the city.\n",
    "\n",
    "**Hypothesis**: University towns have their mean housing prices less effected by recessions. Run a t-test to compare the ratio of the mean price of houses in university towns the quarter before the recession starts compared to the recession bottom. (`price_ratio=quarter_before_recession/recession_bottom`)\n",
    "\n",
    "The following data files are available for this assignment:\n",
    "* From the [Zillow research data site](http://www.zillow.com/research/data/) there is housing data for the United States. In particular the datafile for [all homes at a city level](http://files.zillowstatic.com/research/public/City/City_Zhvi_AllHomes.csv), ```City_Zhvi_AllHomes.csv```, has median home sale prices at a fine grained level.\n",
    "* From the Wikipedia page on college towns is a list of [university towns in the United States](https://en.wikipedia.org/wiki/List_of_college_towns#College_towns_in_the_United_States) which has been copy and pasted into the file ```university_towns.txt```.\n",
    "* From Bureau of Economic Analysis, US Department of Commerce, the [GDP over time](http://www.bea.gov/national/index.htm#gdp) of the United States in current dollars (use the chained value in 2009 dollars), in quarterly intervals, in the file ```gdplev.xls```. For this assignment, only look at GDP data from the first quarter of 2000 onward.\n",
    "\n",
    "Each function in this assignment below is worth 10%, with the exception of ```run_ttest()```, which is worth 50%."
   ]
  },
  {
   "cell_type": "code",
   "execution_count": 16,
   "metadata": {
    "collapsed": true
   },
   "outputs": [],
   "source": [
    "# Use this dictionary to map state names to two letter acronyms\n",
    "states = {'OH': 'Ohio', 'KY': 'Kentucky', 'AS': 'American Samoa', 'NV': 'Nevada', 'WY': 'Wyoming', 'NA': 'National', 'AL': 'Alabama', 'MD': 'Maryland', 'AK': 'Alaska', 'UT': 'Utah', 'OR': 'Oregon', 'MT': 'Montana', 'IL': 'Illinois', 'TN': 'Tennessee', 'DC': 'District of Columbia', 'VT': 'Vermont', 'ID': 'Idaho', 'AR': 'Arkansas', 'ME': 'Maine', 'WA': 'Washington', 'HI': 'Hawaii', 'WI': 'Wisconsin', 'MI': 'Michigan', 'IN': 'Indiana', 'NJ': 'New Jersey', 'AZ': 'Arizona', 'GU': 'Guam', 'MS': 'Mississippi', 'PR': 'Puerto Rico', 'NC': 'North Carolina', 'TX': 'Texas', 'SD': 'South Dakota', 'MP': 'Northern Mariana Islands', 'IA': 'Iowa', 'MO': 'Missouri', 'CT': 'Connecticut', 'WV': 'West Virginia', 'SC': 'South Carolina', 'LA': 'Louisiana', 'KS': 'Kansas', 'NY': 'New York', 'NE': 'Nebraska', 'OK': 'Oklahoma', 'FL': 'Florida', 'CA': 'California', 'CO': 'Colorado', 'PA': 'Pennsylvania', 'DE': 'Delaware', 'NM': 'New Mexico', 'RI': 'Rhode Island', 'MN': 'Minnesota', 'VI': 'Virgin Islands', 'NH': 'New Hampshire', 'MA': 'Massachusetts', 'GA': 'Georgia', 'ND': 'North Dakota', 'VA': 'Virginia'}"
   ]
  },
  {
   "cell_type": "code",
   "execution_count": 3,
   "metadata": {
    "collapsed": true,
    "umich_part_id": "021",
    "umich_partlist_id": "004"
   },
   "outputs": [],
   "source": [
    "def get_list_of_university_towns():\n",
    "    '''Returns a DataFrame of towns and the states they are in from the \n",
    "    university_towns.txt list. The format of the DataFrame should be:\n",
    "    DataFrame( [ [\"Michigan\", \"Ann Arbor\"], [\"Michigan\", \"Yipsilanti\"] ], \n",
    "    columns=[\"State\", \"RegionName\"]  )\n",
    "    \n",
    "    The following cleaning needs to be done:\n",
    "\n",
    "    1. For \"State\", removing characters from \"[\" to the end.\n",
    "    2. For \"RegionName\", when applicable, removing every character from \" (\" to the end.\n",
    "    3. Depending on how you read the data, you may need to remove newline character '\\n'. '''\n",
    "    f=open(\"university_towns.txt\")\n",
    "    data=[x.rstrip() for x in f]\n",
    "    \n",
    "    \n",
    "    state_town=[]\n",
    "    \n",
    "    for i in data:\n",
    "        if i[-6:]=='[edit]':\n",
    "            state=i[:-6]\n",
    "        elif '(' in i:\n",
    "            towns=i[:i.index('(')-1]\n",
    "            state_town.append([state,towns])\n",
    "            \n",
    "        else:\n",
    "            towns=i\n",
    "            state_town.append([state,towns])\n",
    "            \n",
    "    df=pd.DataFrame(state_town,columns=['State','RegionName'])\n",
    "            \n",
    "    \n",
    "    \n",
    "    return df\n",
    "#get_list_of_university_towns()\n",
    "\n",
    "\n",
    "\n",
    "\n",
    "\n"
   ]
  },
  {
   "cell_type": "code",
   "execution_count": 20,
   "metadata": {
    "umich_part_id": "022",
    "umich_partlist_id": "004"
   },
   "outputs": [
    {
     "data": {
      "text/plain": [
       "'2008q3'"
      ]
     },
     "execution_count": 20,
     "metadata": {},
     "output_type": "execute_result"
    }
   ],
   "source": [
    "def get_recession_start():\n",
    "    '''Returns the year and quarter of the recession start time as a \n",
    "    string value in a format such as 2005q3'''\n",
    "    \n",
    "    gdp=pd.read_excel('gdplev.xls',skiprows=7)\n",
    "    \n",
    "    gdp=gdp[['Unnamed: 4','Unnamed: 5']]\n",
    "    gdp=gdp[212:]\n",
    "    quarters=[]\n",
    "    gdp.columns=['Quarter','GDP']\n",
    "    \n",
    "    gdp['GDP']=pd.to_numeric(gdp['GDP'])\n",
    "    for i in range(len(gdp)-2):\n",
    "        if (gdp.iloc[i][1]>gdp.iloc[i+1][1]) and (gdp.iloc[i+1][1]>gdp.iloc[i+2][1]) :\n",
    "            quarters.append(gdp.iloc[i][0])\n",
    "    \n",
    "    return quarters[0]\n",
    "\n",
    "\n",
    "#get_recession_start()"
   ]
  },
  {
   "cell_type": "code",
   "execution_count": 19,
   "metadata": {
    "umich_part_id": "023",
    "umich_partlist_id": "004"
   },
   "outputs": [
    {
     "data": {
      "text/plain": [
       "'2009q4'"
      ]
     },
     "execution_count": 19,
     "metadata": {},
     "output_type": "execute_result"
    }
   ],
   "source": [
    "def get_recession_end():\n",
    "    '''Returns the year and quarter of the recession end time as a \n",
    "    string value in a format such as 2005q3'''\n",
    "    \n",
    "    gdp=pd.read_excel('gdplev.xls',skiprows=7)\n",
    "    \n",
    "    gdp=gdp[['Unnamed: 4','Unnamed: 5']]\n",
    "    gdp=gdp[212:]\n",
    "    quarters=[]\n",
    "    gdp.columns=['Quarter','GDP']\n",
    "    \n",
    "    gdp['GDP']=pd.to_numeric(gdp['GDP'])\n",
    "    for i in range(len(gdp)-4):\n",
    "        if (gdp.iloc[i][1]>gdp.iloc[i+1][1]) and (gdp.iloc[i+1][1]>gdp.iloc[i+2][1]) and (gdp.iloc[i+3][1]>gdp.iloc[i+2][1]) and (gdp.iloc[i+4][1]>gdp.iloc[i+3][1]):\n",
    "            quarters.append(gdp.iloc[i+4][0])    \n",
    "   \n",
    "    return quarters[0]\n",
    "#get_recession_end()"
   ]
  },
  {
   "cell_type": "code",
   "execution_count": 30,
   "metadata": {
    "umich_part_id": "024",
    "umich_partlist_id": "004"
   },
   "outputs": [
    {
     "data": {
      "text/plain": [
       "'2009q2'"
      ]
     },
     "execution_count": 30,
     "metadata": {},
     "output_type": "execute_result"
    }
   ],
   "source": [
    "def get_recession_bottom():\n",
    "    '''Returns the year and quarter of the recession bottom time as a \n",
    "    string value in a format such as 2005q3'''\n",
    "    gdp=pd.read_excel('gdplev.xls',skiprows=7)\n",
    "    \n",
    "    gdp=gdp[['Unnamed: 4','Unnamed: 5']]\n",
    "    \n",
    "    quarters=[]\n",
    "    gdp.columns=['Quarter','GDP']\n",
    "    \n",
    "    \n",
    "    start=get_recession_start()\n",
    "    end=get_recession_end()\n",
    "    \n",
    "    gdp_start=gdp[gdp['Quarter']==start].index.tolist()[0]\n",
    "    gdp_end=gdp[gdp['Quarter']==end].index.tolist()[0]\n",
    "    \n",
    "    recessiongdp=gdp.iloc[gdp_start:gdp_end+1]\n",
    "    \n",
    "    \n",
    "            \n",
    "    \n",
    "    return recessiongdp[recessiongdp['GDP']==np.min(recessiongdp['GDP'])]['Quarter'].tolist()[0]\n",
    "get_recession_bottom()"
   ]
  },
  {
   "cell_type": "code",
   "execution_count": 14,
   "metadata": {
    "collapsed": true,
    "umich_part_id": "025",
    "umich_partlist_id": "004"
   },
   "outputs": [],
   "source": [
    "def convert_housing_data_to_quarters():\n",
    "    '''Converts the housing data to quarters and returns it as mean \n",
    "    values in a dataframe. This dataframe should be a dataframe with\n",
    "    columns for 2000q1 through 2016q3, and should have a multi-index\n",
    "    in the shape of [\"State\",\"RegionName\"].\n",
    "    \n",
    "    Note: Quarters are defined in the assignment description, they are\n",
    "    not arbitrary three month periods.\n",
    "    \n",
    "    The resulting dataframe should have 67 columns, and 10,730 rows.\n",
    "    '''\n",
    "    \n",
    "    housing=pd.read_csv('City_Zhvi_AllHomes.csv')\n",
    "    \n",
    "    housing=housing.drop(housing.columns[[0]+list(range(3,51))],axis=1)\n",
    "    \n",
    "    housing=housing.reset_index()\n",
    "    \n",
    "    hdata=housing[['RegionName','State']]\n",
    "    #hdata=hdata.reset_index()\n",
    "    \n",
    "    for year in range(2000,2016):\n",
    "        hdata[str(year)+'q1']=housing[[str(year)+'-01',str(year)+'-02',str(year)+'-03']].mean(axis=1)\n",
    "        hdata[str(year)+'q2']=housing[[str(year)+'-04',str(year)+'-05',str(year)+'-06']].mean(axis=1)\n",
    "        hdata[str(year)+'q3']=housing[[str(year)+'-07',str(year)+'-08',str(year)+'-09']].mean(axis=1)\n",
    "        hdata[str(year)+'q4']=housing[[str(year)+'-10',str(year)+'-11',str(year)+'-12']].mean(axis=1)\n",
    "    year=2016\n",
    "    hdata[str(year)+'q1']=housing[[str(year)+'-01',str(year)+'-02',str(year)+'-03']].mean(axis=1)\n",
    "    hdata[str(year)+'q2']=housing[[str(year)+'-04',str(year)+'-05',str(year)+'-06']].mean(axis=1)\n",
    "    hdata[str(year)+'q3']=housing[[str(year)+'-07',str(year)+'-08']].mean(axis=1)\n",
    "        \n",
    "    hdata=hdata.replace({'State':states})\n",
    "    \n",
    "    hdata=hdata.set_index([\"State\",\"RegionName\"])\n",
    "    \n",
    "    return hdata\n",
    "\n",
    "\n",
    "    \n",
    "\n",
    "#convert_housing_data_to_quarters()"
   ]
  },
  {
   "cell_type": "code",
   "execution_count": 90,
   "metadata": {
    "umich_part_id": "026",
    "umich_partlist_id": "004"
   },
   "outputs": [
    {
     "name": "stderr",
     "output_type": "stream",
     "text": [
      "/opt/conda/lib/python3.6/site-packages/ipykernel/__main__.py:23: SettingWithCopyWarning: \n",
      "A value is trying to be set on a copy of a slice from a DataFrame.\n",
      "Try using .loc[row_indexer,col_indexer] = value instead\n",
      "\n",
      "See the caveats in the documentation: http://pandas.pydata.org/pandas-docs/stable/indexing.html#indexing-view-versus-copy\n",
      "/opt/conda/lib/python3.6/site-packages/ipykernel/__main__.py:24: SettingWithCopyWarning: \n",
      "A value is trying to be set on a copy of a slice from a DataFrame.\n",
      "Try using .loc[row_indexer,col_indexer] = value instead\n",
      "\n",
      "See the caveats in the documentation: http://pandas.pydata.org/pandas-docs/stable/indexing.html#indexing-view-versus-copy\n",
      "/opt/conda/lib/python3.6/site-packages/ipykernel/__main__.py:25: SettingWithCopyWarning: \n",
      "A value is trying to be set on a copy of a slice from a DataFrame.\n",
      "Try using .loc[row_indexer,col_indexer] = value instead\n",
      "\n",
      "See the caveats in the documentation: http://pandas.pydata.org/pandas-docs/stable/indexing.html#indexing-view-versus-copy\n",
      "/opt/conda/lib/python3.6/site-packages/ipykernel/__main__.py:26: SettingWithCopyWarning: \n",
      "A value is trying to be set on a copy of a slice from a DataFrame.\n",
      "Try using .loc[row_indexer,col_indexer] = value instead\n",
      "\n",
      "See the caveats in the documentation: http://pandas.pydata.org/pandas-docs/stable/indexing.html#indexing-view-versus-copy\n",
      "/opt/conda/lib/python3.6/site-packages/ipykernel/__main__.py:28: SettingWithCopyWarning: \n",
      "A value is trying to be set on a copy of a slice from a DataFrame.\n",
      "Try using .loc[row_indexer,col_indexer] = value instead\n",
      "\n",
      "See the caveats in the documentation: http://pandas.pydata.org/pandas-docs/stable/indexing.html#indexing-view-versus-copy\n",
      "/opt/conda/lib/python3.6/site-packages/ipykernel/__main__.py:29: SettingWithCopyWarning: \n",
      "A value is trying to be set on a copy of a slice from a DataFrame.\n",
      "Try using .loc[row_indexer,col_indexer] = value instead\n",
      "\n",
      "See the caveats in the documentation: http://pandas.pydata.org/pandas-docs/stable/indexing.html#indexing-view-versus-copy\n",
      "/opt/conda/lib/python3.6/site-packages/ipykernel/__main__.py:30: SettingWithCopyWarning: \n",
      "A value is trying to be set on a copy of a slice from a DataFrame.\n",
      "Try using .loc[row_indexer,col_indexer] = value instead\n",
      "\n",
      "See the caveats in the documentation: http://pandas.pydata.org/pandas-docs/stable/indexing.html#indexing-view-versus-copy\n"
     ]
    },
    {
     "name": "stdout",
     "output_type": "stream",
     "text": [
      "10730\n",
      "269\n",
      "517\n",
      "10461\n"
     ]
    },
    {
     "data": {
      "text/plain": [
       "(True, 0.002099659657952052, 'university town')"
      ]
     },
     "execution_count": 90,
     "metadata": {},
     "output_type": "execute_result"
    }
   ],
   "source": [
    "def run_ttest():\n",
    "    '''First creates new data showing the decline or growth of housing prices\n",
    "    between the recession start and the recession bottom. Then runs a ttest\n",
    "    comparing the university town values to the non-university towns values, \n",
    "    return whether the alternative hypothesis (that the two groups are the same)\n",
    "    is true or not as well as the p-value of the confidence. \n",
    "    \n",
    "    Return the tuple (different, p, better) where different=True if the t-test is\n",
    "    True at a p<0.01 (we reject the null hypothesis), or different=False if \n",
    "    otherwise (we cannot reject the null hypothesis). The variable p should\n",
    "    be equal to the exact p value returned from scipy.stats.ttest_ind(). The\n",
    "    value for better should be either \"university town\" or \"non-university town\"\n",
    "    depending on which has a lower mean price ratio (which is equivilent to a\n",
    "    reduced market loss).'''\n",
    "    \n",
    "    \n",
    "    \n",
    "    \n",
    "    start=get_recession_start()\n",
    "    bottom=get_recession_bottom()\n",
    "    \n",
    "    \n",
    "    \n",
    "    \n",
    "    housing=convert_housing_data_to_quarters()\n",
    "    housing=housing.reset_index()\n",
    "    start = housing.columns[housing.columns.get_loc(start) -1]\n",
    "    \n",
    "    \n",
    "    housing['ratio']=housing[bottom]-housing[start]\n",
    "    \n",
    "    housing=housing[['State','RegionName',start,bottom,'ratio']]\n",
    "    \n",
    "    housing=housing.reset_index()\n",
    "    \n",
    "    university_towns=get_list_of_university_towns()\n",
    "    \n",
    "    university_towns=university_towns.reset_index()\n",
    "    \n",
    "    \n",
    "    \n",
    "    \n",
    "    \n",
    "        \n",
    "    #university_towns=university_towns.set_index(['State','RegionName'])\n",
    "        \n",
    "    #uprice=pd.merge(university_towns,hdf,left_on=['State','RegionName'],right_on=['State','RegionName'])\n",
    "    \n",
    "    #uprice=hdf[(hdf['State'].isin(university_towns['State'])) & (hdf['RegionName'].isin(university_towns['RegionName']))]\n",
    "    \n",
    "    \n",
    "    \n",
    "    uprice=pd.merge(housing,university_towns,how='inner',on=['State','RegionName'])\n",
    "    \n",
    "    uprice['uni']=True\n",
    "    \n",
    "    hdata=pd.merge(housing,uprice,how='left',on=['State','RegionName',start,bottom,'ratio'])\n",
    "    \n",
    "    hdata['uni']=hdata['uni'].fillna(False)\n",
    "    \n",
    "    uni=hdata[hdata['uni']==True]\n",
    "    \n",
    "    nonu=hdata[hdata['uni']==False]\n",
    "    \n",
    "    #nonuprice=hdf[(hdf['State'].isin(university_towns['State'])) & ~(hdf['RegionName'].isin(university_towns['RegionName']))]\n",
    "    \n",
    "    '''print(len(housing))\n",
    "    \n",
    "    print(len(uni))\n",
    "    \n",
    "    print(len(university_towns))\n",
    "    \n",
    "    print(len(nonu))'''\n",
    "    \n",
    "    \n",
    "    t,p=ttest_ind(uni['ratio'].dropna(),nonu['ratio'].dropna())\n",
    "    \n",
    "    if p<0.01:\n",
    "        different=True\n",
    "    else:\n",
    "        different=False\n",
    "        \n",
    "    if uni['ratio'].mean()>nonu['ratio'].mean():\n",
    "        better='university town'\n",
    "    else:\n",
    "        better='non-university town'\n",
    "    \n",
    "    return (different,p,better)\n",
    "run_ttest()\n",
    "\n",
    "\n"
   ]
  },
  {
   "cell_type": "code",
   "execution_count": null,
   "metadata": {
    "collapsed": true
   },
   "outputs": [],
   "source": []
  },
  {
   "cell_type": "code",
   "execution_count": null,
   "metadata": {
    "collapsed": true
   },
   "outputs": [],
   "source": []
  }
 ],
 "metadata": {
  "coursera": {
   "course_slug": "python-data-analysis",
   "graded_item_id": "Il9Fx",
   "launcher_item_id": "TeDW0",
   "part_id": "WGlun"
  },
  "kernelspec": {
   "display_name": "Python 3",
   "language": "python",
   "name": "python3"
  },
  "language_info": {
   "codemirror_mode": {
    "name": "ipython",
    "version": 3
   },
   "file_extension": ".py",
   "mimetype": "text/x-python",
   "name": "python",
   "nbconvert_exporter": "python",
   "pygments_lexer": "ipython3",
   "version": "3.6.2"
  },
  "umich": {
   "id": "Assignment 4",
   "version": "1.1"
  }
 },
 "nbformat": 4,
 "nbformat_minor": 1
}
